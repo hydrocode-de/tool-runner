{
 "cells": [
  {
   "cell_type": "markdown",
   "metadata": {},
   "source": [
    "# Tool runner\n",
    "\n",
    "Use this notebook to operate the `toolbox_runner` backend from a Python environment. You need to have docker installed and built all images found in `./images`.\n",
    "Only images that are tagged with a tag prefixed *tbr_* will be recognized as tool. Then, you can run the tool and obtain the result from within Python, without\n",
    "the need to install all dependencies or the environment of the tool."
   ]
  },
  {
   "cell_type": "markdown",
   "metadata": {},
   "source": [
    "## List all tools found and inspect them\n",
    "\n",
    "Each tool exposes a config file to learn about its parameters (and one day also the outputs)"
   ]
  },
  {
   "cell_type": "code",
   "execution_count": 1,
   "metadata": {},
   "outputs": [],
   "source": [
    "from toolbox_runner.run import list_tools"
   ]
  },
  {
   "cell_type": "code",
   "execution_count": 2,
   "metadata": {},
   "outputs": [
    {
     "data": {
      "text/plain": [
       "{'profile': profile: Dataset Profile  FROM tbr_profile:latest VERSION: 0.1,\n",
       " 'variogram': variogram: Variogram fitting  FROM tbr_skgstat:latest VERSION: 1.0,\n",
       " 'kriging': kriging: Kriging interpolation  FROM tbr_skgstat:latest VERSION: 1.0}"
      ]
     },
     "execution_count": 2,
     "metadata": {},
     "output_type": "execute_result"
    }
   ],
   "source": [
    "tools = list_tools(as_dict=True)\n",
    "\n",
    "tools"
   ]
  },
  {
   "cell_type": "markdown",
   "metadata": {},
   "source": [
    "Now, we can pick a tool and learn about the parameter names and their types"
   ]
  },
  {
   "cell_type": "code",
   "execution_count": 4,
   "metadata": {},
   "outputs": [
    {
     "name": "stdout",
     "output_type": "stream",
     "text": [
      "Variogram fitting\n",
      "-------------\n",
      "Estimate an empirical variogram and fit a model\n",
      "\n",
      "Parameters\n",
      "-------------\n",
      "coordinates:\t\tfile\n",
      "values:\t\tfile\n",
      "n_lags:\t\tinteger\n",
      "model:\t\tenum\n",
      "estimator:\t\tenum\n",
      "maxlag:\t\tstring\n",
      "fit_method:\t\tenum\n"
     ]
    }
   ],
   "source": [
    "vario = tools.get('variogram')\n",
    "\n",
    "print(vario.title)\n",
    "print('-------------')\n",
    "print(vario.description)\n",
    "print('\\nParameters\\n-------------')\n",
    "for key, conf in vario.parameters.items():\n",
    "    print(f\"{key}:\\t\\t{conf['type']}\")"
   ]
  },
  {
   "cell_type": "markdown",
   "metadata": {},
   "source": [
    "Finally, you can grab your data from anywhere. The coordinates and values needs to be a N-D and 1-D array of same length. You can supply the path to a `.mat` file, or use the numpy ecosystem to pass two arrays. You can find an example in the source for the geostatistical tools image."
   ]
  },
  {
   "cell_type": "code",
   "execution_count": 3,
   "metadata": {},
   "outputs": [],
   "source": [
    "# use pandas to read the file\n",
    "import pandas as pd\n",
    "df = pd.read_csv('../images/skgstat/in/meuse.csv')\n",
    "\n",
    "# extract the numpy arrays\n",
    "coords = df[['x', 'y']].values\n",
    "vals = df.lead.values"
   ]
  },
  {
   "cell_type": "markdown",
   "metadata": {},
   "source": [
    "We can use the `Tool.run` function to call the tool inside the docker container."
   ]
  },
  {
   "cell_type": "code",
   "execution_count": 6,
   "metadata": {},
   "outputs": [
    {
     "name": "stdout",
     "output_type": "stream",
     "text": [
      "Results cached at ./1666766315_variogram.tar.gz\n"
     ]
    }
   ],
   "source": [
    "step_path = vario.run(result_path='./', coordinates=coords, values=vals, model='exponential', n_lags=15, maxlag='median')\n",
    "print(f'Results cached at {step_path}')"
   ]
  },
  {
   "cell_type": "markdown",
   "metadata": {},
   "source": [
    "## Dataset profiling"
   ]
  },
  {
   "cell_type": "code",
   "execution_count": 4,
   "metadata": {},
   "outputs": [],
   "source": [
    "profile = tools.get('profile')"
   ]
  },
  {
   "cell_type": "code",
   "execution_count": 5,
   "metadata": {},
   "outputs": [
    {
     "data": {
      "text/plain": [
       "./1666770522_profile.tar.gz"
      ]
     },
     "execution_count": 5,
     "metadata": {},
     "output_type": "execute_result"
    }
   ],
   "source": [
    "step = profile.run(result_path='./', data=df)\n",
    "step"
   ]
  },
  {
   "cell_type": "code",
   "execution_count": 4,
   "metadata": {},
   "outputs": [
    {
     "data": {
      "text/plain": [
       "['./out/STDOUT.log', './out/report.html']"
      ]
     },
     "execution_count": 4,
     "metadata": {},
     "output_type": "execute_result"
    }
   ],
   "source": [
    "step.outputs"
   ]
  },
  {
   "cell_type": "code",
   "execution_count": null,
   "metadata": {},
   "outputs": [],
   "source": [
    "# this is weird, but is works\n",
    "from IPython.display import display, HTML\n",
    "html = step.get_file('./out/report.html').decode()\n",
    "\n",
    "display(HTML(html))"
   ]
  }
 ],
 "metadata": {
  "kernelspec": {
   "display_name": "Python 3.8.5 ('base')",
   "language": "python",
   "name": "python3"
  },
  "language_info": {
   "codemirror_mode": {
    "name": "ipython",
    "version": 3
   },
   "file_extension": ".py",
   "mimetype": "text/x-python",
   "name": "python",
   "nbconvert_exporter": "python",
   "pygments_lexer": "ipython3",
   "version": "3.8.8"
  },
  "orig_nbformat": 4,
  "vscode": {
   "interpreter": {
    "hash": "f54d8176e82297fa872ac8c77277e50c0e193f921954c1c4a0b1ae2e8be99b71"
   }
  }
 },
 "nbformat": 4,
 "nbformat_minor": 2
}
